{
 "cells": [
  {
   "cell_type": "markdown",
   "metadata": {},
   "source": [
    "This project is for my Honors College senior project at Grand Valley State University. The project allows for independent research within our major field of study. For this project, I wanted to explore machine learning. I wanted to create a model that was related to sports. I decided on attempting to predict baseball player salary using various statistics.\n",
    "\n",
    "DATA\n",
    "\n",
    "The first step in this process was to find a dataset with sufficient data. I am using [Lahman's Database](http://www.seanlahman.com/baseball-archive/statistics) "
   ]
  },
  {
   "cell_type": "code",
   "execution_count": null,
   "metadata": {},
   "outputs": [],
   "source": []
  }
 ],
 "metadata": {
  "kernelspec": {
   "display_name": "Python 3",
   "language": "python",
   "name": "python3"
  },
  "language_info": {
   "codemirror_mode": {
    "name": "ipython",
    "version": 3
   },
   "file_extension": ".py",
   "mimetype": "text/x-python",
   "name": "python",
   "nbconvert_exporter": "python",
   "pygments_lexer": "ipython3",
   "version": "3.8.0"
  }
 },
 "nbformat": 4,
 "nbformat_minor": 4
}
